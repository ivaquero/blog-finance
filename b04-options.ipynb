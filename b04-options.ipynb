{
 "cells": [
  {
   "cell_type": "markdown",
   "metadata": {},
   "source": [
    "# Numerical Methods for Pricing Options"
   ]
  },
  {
   "cell_type": "code",
   "execution_count": 1,
   "metadata": {},
   "outputs": [],
   "source": [
    "import math\n",
    "\n",
    "import matplotlib.pyplot as plt\n",
    "\n",
    "from fkit_option import *"
   ]
  },
  {
   "cell_type": "markdown",
   "metadata": {},
   "source": [
    "## Pricing European Options"
   ]
  },
  {
   "cell_type": "code",
   "execution_count": 2,
   "metadata": {},
   "outputs": [
    {
     "name": "stdout",
     "output_type": "stream",
     "text": [
      "q = 0.6281777409400603\n"
     ]
    }
   ],
   "source": [
    "r = 0.05\n",
    "T = 2\n",
    "t = T / 2\n",
    "u = 1.2\n",
    "d = 0.8\n",
    "\n",
    "q = (math.exp(r * t) - d) / (u - d)\n",
    "print(f\"q = {q}\")"
   ]
  },
  {
   "cell_type": "code",
   "execution_count": 3,
   "metadata": {},
   "outputs": [
    {
     "name": "stdout",
     "output_type": "stream",
     "text": [
      "European put option price is: 4.1926542806038585\n"
     ]
    }
   ],
   "source": [
    "eu_option = BinomialEuropeanOption(\n",
    "    50, 52, r=0.05, T=2, N=2, pu=0.2, pd=0.2, is_put=True\n",
    ")\n",
    "\n",
    "print(f\"European put option price is: {eu_option.price()}\")"
   ]
  },
  {
   "cell_type": "markdown",
   "metadata": {},
   "source": [
    "## A Class for American Options Using A Binomial Tree"
   ]
  },
  {
   "cell_type": "code",
   "execution_count": 4,
   "metadata": {},
   "outputs": [
    {
     "name": "stdout",
     "output_type": "stream",
     "text": [
      "American put option price is: 5.089632474198373\n"
     ]
    }
   ],
   "source": [
    "am_option = BinomialTreeOption(\n",
    "    50, 52, r=0.05, T=2, N=2, pu=0.2, pd=0.2, is_put=True, is_am=True\n",
    ")\n",
    "print(f\"American put option price is: {am_option.price()}\")"
   ]
  },
  {
   "cell_type": "markdown",
   "metadata": {},
   "source": [
    "## The Cox-Ross-Rubinstein model"
   ]
  },
  {
   "cell_type": "code",
   "execution_count": 5,
   "metadata": {},
   "outputs": [
    {
     "name": "stdout",
     "output_type": "stream",
     "text": [
      "European put: 6.245708445206436\n"
     ]
    }
   ],
   "source": [
    "eu_option = BinomialCRROption(50, 52, r=0.05, T=2, N=2, sigma=0.3, is_put=True)\n",
    "print(f\"European put: {eu_option.price()}\")"
   ]
  },
  {
   "cell_type": "code",
   "execution_count": 6,
   "metadata": {},
   "outputs": [
    {
     "name": "stdout",
     "output_type": "stream",
     "text": [
      "American put option price is: 7.428401902704834\n"
     ]
    }
   ],
   "source": [
    "am_option = BinomialCRROption(\n",
    "    50, 52, r=0.05, T=2, N=2, sigma=0.3, is_put=True, is_am=True\n",
    ")\n",
    "print(f\"American put option price is: {am_option.price()}\")"
   ]
  },
  {
   "cell_type": "markdown",
   "metadata": {},
   "source": [
    "## Using a Leisen-Reimer (LR) Tree"
   ]
  },
  {
   "cell_type": "code",
   "execution_count": 7,
   "metadata": {},
   "outputs": [
    {
     "name": "stdout",
     "output_type": "stream",
     "text": [
      "European put: 5.878650106601964\n"
     ]
    }
   ],
   "source": [
    "eu_option = BinomialLROption(50, 52, r=0.05, T=2, N=4, sigma=0.3, is_put=True)\n",
    "print(f\"European put: {eu_option.price()}\")"
   ]
  },
  {
   "cell_type": "code",
   "execution_count": 8,
   "metadata": {},
   "outputs": [
    {
     "name": "stdout",
     "output_type": "stream",
     "text": [
      "American put: 6.763641952939979\n"
     ]
    }
   ],
   "source": [
    "am_option = BinomialLROption(\n",
    "    50, 52, r=0.05, T=2, N=4, sigma=0.3, is_put=True, is_am=True\n",
    ")\n",
    "print(f\"American put: {am_option.price()}\")"
   ]
  },
  {
   "cell_type": "markdown",
   "metadata": {},
   "source": [
    "## The Greeks For Free"
   ]
  },
  {
   "cell_type": "markdown",
   "metadata": {},
   "source": [
    "### A Class For Greeks With The Lr Binomial Tree"
   ]
  },
  {
   "cell_type": "code",
   "execution_count": 9,
   "metadata": {},
   "outputs": [
    {
     "name": "stdout",
     "output_type": "stream",
     "text": [
      "European call values\n",
      "Price: 9.69546807138366\n",
      "Delta: 0.6392477816643529\n",
      "Gamma: 0.01764795890533088\n"
     ]
    }
   ],
   "source": [
    "eu_call = BinomialLRWithGreeks(50, 52, r=0.05, T=2, N=300, sigma=0.3)\n",
    "results = eu_call.price()\n",
    "print(\"European call values\")\n",
    "print(f\"Price: {results[0]}\\nDelta: {results[1]}\\nGamma: {results[2]}\")"
   ]
  },
  {
   "cell_type": "code",
   "execution_count": 10,
   "metadata": {},
   "outputs": [
    {
     "name": "stdout",
     "output_type": "stream",
     "text": [
      "European put values\n",
      "Price: 6.747013809252746\n",
      "Delta: -0.3607522183356649\n",
      "Gamma: 0.0176479589053312\n"
     ]
    }
   ],
   "source": [
    "eu_put = BinomialLRWithGreeks(50, 52, r=0.05, T=2, N=300, sigma=0.3, is_put=True)\n",
    "results = eu_put.price()\n",
    "print(\"European put values\")\n",
    "print(f\"Price: {results[0]}\\nDelta: {results[1]}\\nGamma: {results[2]}\")"
   ]
  },
  {
   "cell_type": "markdown",
   "metadata": {},
   "source": [
    "## Trinomial Trees In Options Pricing"
   ]
  },
  {
   "cell_type": "code",
   "execution_count": 11,
   "metadata": {},
   "outputs": [
    {
     "name": "stdout",
     "output_type": "stream",
     "text": [
      "European put: 6.573565269142496\n"
     ]
    }
   ],
   "source": [
    "eu_option = TrinomialTreeOption(50, 52, r=0.05, T=2, N=2, sigma=0.3, is_put=True)\n",
    "print(f\"European put: {eu_option.price()}\")"
   ]
  },
  {
   "cell_type": "code",
   "execution_count": 12,
   "metadata": {},
   "outputs": [
    {
     "name": "stdout",
     "output_type": "stream",
     "text": [
      "American put: 7.161349217272585\n"
     ]
    }
   ],
   "source": [
    "am_option = TrinomialTreeOption(\n",
    "    50, 52, r=0.05, T=2, N=2, sigma=0.3, is_put=True, is_am=True\n",
    ")\n",
    "print(f\"American put: {am_option.price()}\")"
   ]
  },
  {
   "cell_type": "markdown",
   "metadata": {},
   "source": [
    "## Lattices In Options Pricing\n"
   ]
  },
  {
   "cell_type": "markdown",
   "metadata": {},
   "source": [
    "### A Class For Crr Binomial Lattice Option Pricing Model"
   ]
  },
  {
   "cell_type": "code",
   "execution_count": 13,
   "metadata": {},
   "outputs": [
    {
     "name": "stdout",
     "output_type": "stream",
     "text": [
      "European put: 6.245708445206432\n"
     ]
    }
   ],
   "source": [
    "eu_option = BinomialCRRLattice(50, 52, r=0.05, T=2, N=2, sigma=0.3, is_put=True)\n",
    "print(f\"European put: {eu_option.price()}\")"
   ]
  },
  {
   "cell_type": "code",
   "execution_count": 14,
   "metadata": {},
   "outputs": [
    {
     "name": "stdout",
     "output_type": "stream",
     "text": [
      "American put: 7.428401902704828\n"
     ]
    }
   ],
   "source": [
    "am_option = BinomialCRRLattice(\n",
    "    50, 52, r=0.05, T=2, N=2, sigma=0.3, is_put=True, is_am=True\n",
    ")\n",
    "print(f\"American put: {am_option.price()}\")"
   ]
  },
  {
   "cell_type": "markdown",
   "metadata": {},
   "source": [
    "### Writing The Trinomiallattice Class"
   ]
  },
  {
   "cell_type": "code",
   "execution_count": 15,
   "metadata": {},
   "outputs": [
    {
     "name": "stdout",
     "output_type": "stream",
     "text": [
      "European put: 6.573565269142496\n"
     ]
    }
   ],
   "source": [
    "eu_option = TrinomialLattice(50, 52, r=0.05, T=2, N=2, sigma=0.3, is_put=True)\n",
    "print(\"European put:\", eu_option.price())"
   ]
  },
  {
   "cell_type": "code",
   "execution_count": 16,
   "metadata": {},
   "outputs": [
    {
     "name": "stdout",
     "output_type": "stream",
     "text": [
      "American put: 7.161349217272585\n"
     ]
    }
   ],
   "source": [
    "am_option = TrinomialLattice(\n",
    "    50, 52, r=0.05, T=2, N=2, sigma=0.3, is_put=True, is_am=True\n",
    ")\n",
    "print(f\"American put: {am_option.price()}\")"
   ]
  },
  {
   "cell_type": "markdown",
   "metadata": {},
   "source": [
    "## Finite Differences In Options Pricing"
   ]
  },
  {
   "cell_type": "markdown",
   "metadata": {},
   "source": [
    "### A Class For Pricing European Options Using Explicit Method Of Finite Differences\n"
   ]
  },
  {
   "cell_type": "code",
   "execution_count": 17,
   "metadata": {},
   "outputs": [
    {
     "name": "stdout",
     "output_type": "stream",
     "text": [
      "4.072882278148043\n"
     ]
    }
   ],
   "source": [
    "option = FDExplicitEu(\n",
    "    50, 50, r=0.1, T=5.0 / 12.0, sigma=0.4, Smax=100, M=100, N=1000, is_put=True\n",
    ")\n",
    "print(option.price())"
   ]
  },
  {
   "cell_type": "code",
   "execution_count": 18,
   "metadata": {},
   "outputs": [
    {
     "name": "stdout",
     "output_type": "stream",
     "text": [
      "-8.109445694129245e+35\n"
     ]
    }
   ],
   "source": [
    "option = FDExplicitEu(\n",
    "    50, 50, r=0.1, T=5.0 / 12.0, sigma=0.4, Smax=100, M=80, N=100, is_put=True\n",
    ")\n",
    "print(option.price())"
   ]
  },
  {
   "cell_type": "markdown",
   "metadata": {},
   "source": [
    "### A Class For Pricing European Options Using The Implicit Method Of Finite Differences\n"
   ]
  },
  {
   "cell_type": "code",
   "execution_count": 19,
   "metadata": {},
   "outputs": [
    {
     "name": "stdout",
     "output_type": "stream",
     "text": [
      "4.071594188049887\n"
     ]
    }
   ],
   "source": [
    "option = FDImplicitEu(\n",
    "    50, 50, r=0.1, T=5.0 / 12.0, sigma=0.4, Smax=100, M=100, N=1000, is_put=True\n",
    ")\n",
    "print(option.price())"
   ]
  },
  {
   "cell_type": "code",
   "execution_count": 20,
   "metadata": {},
   "outputs": [
    {
     "name": "stdout",
     "output_type": "stream",
     "text": [
      "4.063684691731647\n"
     ]
    }
   ],
   "source": [
    "option = FDImplicitEu(\n",
    "    50, 50, r=0.1, T=5.0 / 12.0, sigma=0.4, Smax=100, M=80, N=100, is_put=True\n",
    ")\n",
    "print(option.price())"
   ]
  },
  {
   "cell_type": "markdown",
   "metadata": {},
   "source": [
    "### A Class For Pricing European Options Using The Crank-Nicolson Method Of Finite Differences"
   ]
  },
  {
   "cell_type": "code",
   "execution_count": 21,
   "metadata": {},
   "outputs": [
    {
     "name": "stdout",
     "output_type": "stream",
     "text": [
      "4.072238354486825\n"
     ]
    }
   ],
   "source": [
    "option = FDCnEu(\n",
    "    50, 50, r=0.1, T=5.0 / 12.0, sigma=0.4, Smax=100, M=100, N=1000, is_put=True\n",
    ")\n",
    "print(option.price())"
   ]
  },
  {
   "cell_type": "code",
   "execution_count": 22,
   "metadata": {},
   "outputs": [
    {
     "name": "stdout",
     "output_type": "stream",
     "text": [
      "4.07014570304284\n"
     ]
    }
   ],
   "source": [
    "option = FDCnEu(\n",
    "    50, 50, r=0.1, T=5.0 / 12.0, sigma=0.4, Smax=100, M=80, N=100, is_put=True\n",
    ")\n",
    "print(option.price())"
   ]
  },
  {
   "cell_type": "markdown",
   "metadata": {},
   "source": [
    "## Pricing Exotic Barrier Options"
   ]
  },
  {
   "cell_type": "markdown",
   "metadata": {},
   "source": [
    "### A Down-And-Out Option"
   ]
  },
  {
   "cell_type": "code",
   "execution_count": 23,
   "metadata": {},
   "outputs": [
    {
     "name": "stdout",
     "output_type": "stream",
     "text": [
      "5.491560552934785\n"
     ]
    }
   ],
   "source": [
    "option = FDCnDo(\n",
    "    50, 50, r=0.1, T=5.0 / 12.0, sigma=0.4, Sbarrier=40, Smax=100, M=120, N=500\n",
    ")\n",
    "print(option.price())"
   ]
  },
  {
   "cell_type": "code",
   "execution_count": 24,
   "metadata": {},
   "outputs": [
    {
     "name": "stdout",
     "output_type": "stream",
     "text": [
      "0.5413635028954453\n"
     ]
    }
   ],
   "source": [
    "option = FDCnDo(\n",
    "    50,\n",
    "    50,\n",
    "    r=0.1,\n",
    "    T=5.0 / 12.0,\n",
    "    sigma=0.4,\n",
    "    Sbarrier=40,\n",
    "    Smax=100,\n",
    "    M=120,\n",
    "    N=500,\n",
    "    is_put=True,\n",
    ")\n",
    "print(option.price())"
   ]
  },
  {
   "cell_type": "markdown",
   "metadata": {},
   "source": [
    "## Pricing American Options With Finite Differences"
   ]
  },
  {
   "cell_type": "markdown",
   "metadata": {},
   "source": [
    "### A Class for Pricing American Options Using The Crank-Nicolson Method Of Finite Differences"
   ]
  },
  {
   "cell_type": "code",
   "execution_count": 25,
   "metadata": {},
   "outputs": [
    {
     "name": "stdout",
     "output_type": "stream",
     "text": [
      "6.108682815392218\n"
     ]
    }
   ],
   "source": [
    "option = FDCnAm(\n",
    "    50, 50, r=0.1, T=5.0 / 12.0, sigma=0.4, Smax=100, M=100, N=42, omega=1.2, tol=0.001\n",
    ")\n",
    "print(option.price())"
   ]
  },
  {
   "cell_type": "code",
   "execution_count": 26,
   "metadata": {},
   "outputs": [
    {
     "name": "stdout",
     "output_type": "stream",
     "text": [
      "4.277764229383736\n"
     ]
    }
   ],
   "source": [
    "option = FDCnAm(\n",
    "    50,\n",
    "    50,\n",
    "    r=0.1,\n",
    "    T=5.0 / 12.0,\n",
    "    sigma=0.4,\n",
    "    Smax=100,\n",
    "    M=100,\n",
    "    N=42,\n",
    "    omega=1.2,\n",
    "    tol=0.001,\n",
    "    is_put=True,\n",
    ")\n",
    "print(option.price())"
   ]
  },
  {
   "cell_type": "markdown",
   "metadata": {},
   "source": [
    "## Implied Volatilities of AAPL American Put Option"
   ]
  },
  {
   "cell_type": "code",
   "execution_count": 27,
   "metadata": {},
   "outputs": [],
   "source": [
    "strikes = [75, 80, 85, 90, 92.5, 95, 97.5, 100, 105, 110, 115, 120, 125]\n",
    "put_prices = [\n",
    "    0.16,\n",
    "    0.32,\n",
    "    0.6,\n",
    "    1.22,\n",
    "    1.77,\n",
    "    2.54,\n",
    "    3.55,\n",
    "    4.8,\n",
    "    7.75,\n",
    "    11.8,\n",
    "    15.96,\n",
    "    20.75,\n",
    "    25.81,\n",
    "]"
   ]
  },
  {
   "cell_type": "code",
   "execution_count": 28,
   "metadata": {},
   "outputs": [],
   "source": [
    "model = ImpliedVolatilityModel(\n",
    "    99.62, r=0.0248, T=78 / 365.0, div=0.0182, N=77, is_put=True\n",
    ")\n",
    "impvols_put = model.get_implied_volatilities(strikes, put_prices, strikes)"
   ]
  },
  {
   "cell_type": "code",
   "execution_count": 29,
   "metadata": {},
   "outputs": [
    {
     "data": {
      "text/plain": [
       "[Text(0.5, 0, 'Strike Prices'),\n",
       " Text(0, 0.5, 'Implied Volatilities'),\n",
       " Text(0.5, 1.0, 'AAPL Put Implied Volatilities expiring in 78 days')]"
      ]
     },
     "execution_count": 29,
     "metadata": {},
     "output_type": "execute_result"
    },
    {
     "data": {
      "image/png": "[encoded data removed]",
      "text/plain": [
       "<Figure size 800x400 with 1 Axes>"
      ]
     },
     "metadata": {},
     "output_type": "display_data"
    }
   ],
   "source": [
    "_, ax = plt.subplots(figsize=(8, 4))\n",
    "\n",
    "ax.plot(strikes, impvols_put)\n",
    "ax.set(\n",
    "    xlabel=\"Strike Prices\",\n",
    "    ylabel=\"Implied Volatilities\",\n",
    "    title=\"AAPL Put Implied Volatilities expiring in 78 days\",\n",
    ")"
   ]
  }
 ],
 "metadata": {
  "kernelspec": {
   "display_name": "base",
   "language": "python",
   "name": "python3"
  },
  "language_info": {
   "codemirror_mode": {
    "name": "ipython",
    "version": 3
   },
   "file_extension": ".py",
   "mimetype": "text/x-python",
   "name": "python",
   "nbconvert_exporter": "python",
   "pygments_lexer": "ipython3",
   "version": "3.12.8"
  }
 },
 "nbformat": 4,
 "nbformat_minor": 2
}
