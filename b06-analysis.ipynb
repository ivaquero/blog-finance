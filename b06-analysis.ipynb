{
 "cells": [
  {
   "cell_type": "markdown",
   "metadata": {},
   "source": [
    "# Statistical Analysis of Time Series Data"
   ]
  },
  {
   "cell_type": "code",
   "execution_count": 1,
   "metadata": {},
   "outputs": [],
   "source": [
    "import matplotlib.pyplot as plt\n",
    "import numpy as np\n",
    "from sklearn.decomposition import KernelPCA\n",
    "\n",
    "from yf_helpers import yf_downloader\n",
    "from yf_helpers import yf_reader"
   ]
  },
  {
   "cell_type": "code",
   "execution_count": 2,
   "metadata": {},
   "outputs": [
    {
     "data": {
      "text/html": [
       "<div>\n",
       "<style scoped>\n",
       "    .dataframe tbody tr th:only-of-type {\n",
       "        vertical-align: middle;\n",
       "    }\n",
       "\n",
       "    .dataframe tbody tr th {\n",
       "        vertical-align: top;\n",
       "    }\n",
       "\n",
       "    .dataframe thead th {\n",
       "        text-align: right;\n",
       "    }\n",
       "</style>\n",
       "<table border=\"1\" class=\"dataframe\">\n",
       "  <thead>\n",
       "    <tr style=\"text-align: right;\">\n",
       "      <th></th>\n",
       "      <th>date</th>\n",
       "      <th>symbol</th>\n",
       "      <th>adjusted</th>\n",
       "      <th>close</th>\n",
       "      <th>high</th>\n",
       "      <th>low</th>\n",
       "      <th>open</th>\n",
       "      <th>volume</th>\n",
       "    </tr>\n",
       "  </thead>\n",
       "  <tbody>\n",
       "    <tr>\n",
       "      <th>67958</th>\n",
       "      <td>2023-12-29</td>\n",
       "      <td>TRV</td>\n",
       "      <td>187.869812</td>\n",
       "      <td>190.490005</td>\n",
       "      <td>190.820007</td>\n",
       "      <td>188.809998</td>\n",
       "      <td>189.339996</td>\n",
       "      <td>1048500.0</td>\n",
       "    </tr>\n",
       "    <tr>\n",
       "      <th>67959</th>\n",
       "      <td>2023-12-29</td>\n",
       "      <td>UNH</td>\n",
       "      <td>520.342346</td>\n",
       "      <td>526.469971</td>\n",
       "      <td>528.239990</td>\n",
       "      <td>523.919983</td>\n",
       "      <td>525.979980</td>\n",
       "      <td>2080100.0</td>\n",
       "    </tr>\n",
       "    <tr>\n",
       "      <th>67960</th>\n",
       "      <td>2023-12-29</td>\n",
       "      <td>V</td>\n",
       "      <td>258.866302</td>\n",
       "      <td>260.350006</td>\n",
       "      <td>261.459991</td>\n",
       "      <td>259.670013</td>\n",
       "      <td>260.570007</td>\n",
       "      <td>4074600.0</td>\n",
       "    </tr>\n",
       "    <tr>\n",
       "      <th>67961</th>\n",
       "      <td>2023-12-29</td>\n",
       "      <td>VZ</td>\n",
       "      <td>35.344772</td>\n",
       "      <td>37.700001</td>\n",
       "      <td>37.759998</td>\n",
       "      <td>37.320000</td>\n",
       "      <td>37.380001</td>\n",
       "      <td>16205200.0</td>\n",
       "    </tr>\n",
       "    <tr>\n",
       "      <th>67962</th>\n",
       "      <td>2023-12-29</td>\n",
       "      <td>WMT</td>\n",
       "      <td>52.042637</td>\n",
       "      <td>52.549999</td>\n",
       "      <td>52.693333</td>\n",
       "      <td>52.386665</td>\n",
       "      <td>52.509998</td>\n",
       "      <td>21948300.0</td>\n",
       "    </tr>\n",
       "  </tbody>\n",
       "</table>\n",
       "</div>"
      ],
      "text/plain": [
       "            date symbol    adjusted       close        high         low  \\\n",
       "67958 2023-12-29    TRV  187.869812  190.490005  190.820007  188.809998   \n",
       "67959 2023-12-29    UNH  520.342346  526.469971  528.239990  523.919983   \n",
       "67960 2023-12-29      V  258.866302  260.350006  261.459991  259.670013   \n",
       "67961 2023-12-29     VZ   35.344772   37.700001   37.759998   37.320000   \n",
       "67962 2023-12-29    WMT   52.042637   52.549999   52.693333   52.386665   \n",
       "\n",
       "             open      volume  \n",
       "67958  189.339996   1048500.0  \n",
       "67959  525.979980   2080100.0  \n",
       "67960  260.570007   4074600.0  \n",
       "67961   37.380001  16205200.0  \n",
       "67962   52.509998  21948300.0  "
      ]
     },
     "execution_count": 2,
     "metadata": {},
     "output_type": "execute_result"
    }
   ],
   "source": [
    "start = \"2023-01-01\"\n",
    "end = \"2023-12-31\"\n",
    "\n",
    "dj = yf_reader(\"data/DowJones-20141106-20241106.csv\", start, end)\n",
    "dj.tail()"
   ]
  },
  {
   "cell_type": "markdown",
   "metadata": {},
   "source": [
    "## Kernel Principal Component Analysis"
   ]
  },
  {
   "cell_type": "code",
   "execution_count": 3,
   "metadata": {},
   "outputs": [],
   "source": [
    "daily_components = dj.pivot_table(\n",
    "    index=\"date\", columns=\"symbol\", values=\"close\"\n",
    ").asfreq(\"D\", method=\"ffill\")"
   ]
  },
  {
   "cell_type": "code",
   "execution_count": 4,
   "metadata": {},
   "outputs": [
    {
     "data": {
      "text/plain": [
       "(361, 30)"
      ]
     },
     "execution_count": 4,
     "metadata": {},
     "output_type": "execute_result"
    }
   ],
   "source": [
    "daily_components.shape"
   ]
  },
  {
   "cell_type": "markdown",
   "metadata": {},
   "source": [
    "### Finding Eigenvectors and Eigenvalues"
   ]
  },
  {
   "cell_type": "code",
   "execution_count": 5,
   "metadata": {},
   "outputs": [],
   "source": [
    "def fn_z_score(x):\n",
    "    return (x - x.mean()) / x.std()"
   ]
  },
  {
   "cell_type": "code",
   "execution_count": 6,
   "metadata": {},
   "outputs": [],
   "source": [
    "df_z_components = daily_components.apply(fn_z_score)\n",
    "fitted_pca = KernelPCA().fit(df_z_components)"
   ]
  },
  {
   "cell_type": "code",
   "execution_count": 7,
   "metadata": {},
   "outputs": [
    {
     "data": {
      "text/plain": [
       "[Text(0, 0.5, 'eigenvalues')]"
      ]
     },
     "execution_count": 7,
     "metadata": {},
     "output_type": "execute_result"
    },
    {
     "data": {
      "image/png": "[encoded data removed]",
      "text/plain": [
       "<Figure size 800x400 with 1 Axes>"
      ]
     },
     "metadata": {},
     "output_type": "display_data"
    }
   ],
   "source": [
    "_, ax = plt.subplots(figsize=(8, 4))\n",
    "\n",
    "ax.plot(fitted_pca.eigenvalues_)\n",
    "ax.set(ylabel=\"eigenvalues\")"
   ]
  },
  {
   "cell_type": "code",
   "execution_count": 8,
   "metadata": {},
   "outputs": [
    {
     "name": "stdout",
     "output_type": "stream",
     "text": [
      "[0.39242311 0.22679801 0.11880792 0.09441715 0.05635573]\n"
     ]
    }
   ],
   "source": [
    "def fn_weighted_avg(x):\n",
    "    return x / x.sum()\n",
    "\n",
    "\n",
    "weighted_values = fn_weighted_avg(fitted_pca.eigenvalues_)[:5]\n",
    "print(weighted_values)"
   ]
  },
  {
   "cell_type": "code",
   "execution_count": 9,
   "metadata": {},
   "outputs": [
    {
     "data": {
      "text/plain": [
       "0.8888019127329738"
      ]
     },
     "execution_count": 9,
     "metadata": {},
     "output_type": "execute_result"
    }
   ],
   "source": [
    "weighted_values.sum()"
   ]
  },
  {
   "cell_type": "markdown",
   "metadata": {},
   "source": [
    "### Reconstructing the Dow Index with PCA"
   ]
  },
  {
   "cell_type": "code",
   "execution_count": 10,
   "metadata": {},
   "outputs": [],
   "source": [
    "kernel_pca = KernelPCA(n_components=5).fit(df_z_components)\n",
    "pca_5 = kernel_pca.transform(df_z_components)\n",
    "\n",
    "weights = fn_weighted_avg(kernel_pca.eigenvalues_)\n",
    "reconstructed_values = np.dot(pca_5, weights)"
   ]
  },
  {
   "cell_type": "code",
   "execution_count": 11,
   "metadata": {},
   "outputs": [
    {
     "name": "stdout",
     "output_type": "stream",
     "text": [
      "Data already exists\n"
     ]
    },
    {
     "data": {
      "text/plain": [
       "'data/AAPL-20141106-20241106.csv'"
      ]
     },
     "execution_count": 11,
     "metadata": {},
     "output_type": "execute_result"
    }
   ],
   "source": [
    "yf_downloader(\"AAPL\", start=\"2014-11-06\", end=\"2024-11-06\")"
   ]
  },
  {
   "cell_type": "code",
   "execution_count": 12,
   "metadata": {},
   "outputs": [
    {
     "data": {
      "text/html": [
       "<div>\n",
       "<style scoped>\n",
       "    .dataframe tbody tr th:only-of-type {\n",
       "        vertical-align: middle;\n",
       "    }\n",
       "\n",
       "    .dataframe tbody tr th {\n",
       "        vertical-align: top;\n",
       "    }\n",
       "\n",
       "    .dataframe thead th {\n",
       "        text-align: right;\n",
       "    }\n",
       "</style>\n",
       "<table border=\"1\" class=\"dataframe\">\n",
       "  <thead>\n",
       "    <tr style=\"text-align: right;\">\n",
       "      <th></th>\n",
       "      <th>date</th>\n",
       "      <th>symbol</th>\n",
       "      <th>adjusted</th>\n",
       "      <th>close</th>\n",
       "      <th>high</th>\n",
       "      <th>low</th>\n",
       "      <th>open</th>\n",
       "      <th>volume</th>\n",
       "    </tr>\n",
       "  </thead>\n",
       "  <tbody>\n",
       "    <tr>\n",
       "      <th>2297</th>\n",
       "      <td>2023-12-22</td>\n",
       "      <td>AAPL</td>\n",
       "      <td>192.868134</td>\n",
       "      <td>193.600006</td>\n",
       "      <td>195.410004</td>\n",
       "      <td>192.970001</td>\n",
       "      <td>195.179993</td>\n",
       "      <td>37122800.0</td>\n",
       "    </tr>\n",
       "    <tr>\n",
       "      <th>2298</th>\n",
       "      <td>2023-12-26</td>\n",
       "      <td>AAPL</td>\n",
       "      <td>192.320221</td>\n",
       "      <td>193.050003</td>\n",
       "      <td>193.889999</td>\n",
       "      <td>192.830002</td>\n",
       "      <td>193.610001</td>\n",
       "      <td>28919300.0</td>\n",
       "    </tr>\n",
       "    <tr>\n",
       "      <th>2299</th>\n",
       "      <td>2023-12-27</td>\n",
       "      <td>AAPL</td>\n",
       "      <td>192.419830</td>\n",
       "      <td>193.149994</td>\n",
       "      <td>193.500000</td>\n",
       "      <td>191.089996</td>\n",
       "      <td>192.490005</td>\n",
       "      <td>48087700.0</td>\n",
       "    </tr>\n",
       "    <tr>\n",
       "      <th>2300</th>\n",
       "      <td>2023-12-28</td>\n",
       "      <td>AAPL</td>\n",
       "      <td>192.848221</td>\n",
       "      <td>193.580002</td>\n",
       "      <td>194.660004</td>\n",
       "      <td>193.169998</td>\n",
       "      <td>194.139999</td>\n",
       "      <td>34049900.0</td>\n",
       "    </tr>\n",
       "    <tr>\n",
       "      <th>2301</th>\n",
       "      <td>2023-12-29</td>\n",
       "      <td>AAPL</td>\n",
       "      <td>191.802185</td>\n",
       "      <td>192.529999</td>\n",
       "      <td>194.399994</td>\n",
       "      <td>191.729996</td>\n",
       "      <td>193.899994</td>\n",
       "      <td>42628800.0</td>\n",
       "    </tr>\n",
       "  </tbody>\n",
       "</table>\n",
       "</div>"
      ],
      "text/plain": [
       "           date symbol    adjusted       close        high         low  \\\n",
       "2297 2023-12-22   AAPL  192.868134  193.600006  195.410004  192.970001   \n",
       "2298 2023-12-26   AAPL  192.320221  193.050003  193.889999  192.830002   \n",
       "2299 2023-12-27   AAPL  192.419830  193.149994  193.500000  191.089996   \n",
       "2300 2023-12-28   AAPL  192.848221  193.580002  194.660004  193.169998   \n",
       "2301 2023-12-29   AAPL  191.802185  192.529999  194.399994  191.729996   \n",
       "\n",
       "            open      volume  \n",
       "2297  195.179993  37122800.0  \n",
       "2298  193.610001  28919300.0  \n",
       "2299  192.490005  48087700.0  \n",
       "2300  194.139999  34049900.0  \n",
       "2301  193.899994  42628800.0  "
      ]
     },
     "execution_count": 12,
     "metadata": {},
     "output_type": "execute_result"
    }
   ],
   "source": [
    "aapl = yf_reader(\"data/AAPL-20141106-20241106.csv\", start, end)\n",
    "aapl.tail()"
   ]
  },
  {
   "cell_type": "code",
   "execution_count": 13,
   "metadata": {},
   "outputs": [],
   "source": [
    "daily_components2 = aapl.pivot_table(\n",
    "    index=\"date\", columns=\"symbol\", values=\"close\"\n",
    ").asfreq(\"D\", method=\"ffill\")"
   ]
  },
  {
   "cell_type": "code",
   "execution_count": 14,
   "metadata": {},
   "outputs": [
    {
     "data": {
      "text/plain": [
       "<Axes: xlabel='date'>"
      ]
     },
     "execution_count": 14,
     "metadata": {},
     "output_type": "execute_result"
    },
    {
     "data": {
      "image/png": "[encoded data removed]",
      "text/plain": [
       "<Figure size 800x400 with 1 Axes>"
      ]
     },
     "metadata": {},
     "output_type": "display_data"
    }
   ],
   "source": [
    "# Combine TSLA and PCA index for comparison\n",
    "df_combined = daily_components2.copy()\n",
    "df_combined[\"pca_5\"] = reconstructed_values\n",
    "df_combined = df_combined.apply(fn_z_score)\n",
    "\n",
    "_, ax = plt.subplots(figsize=(8, 4))\n",
    "df_combined.plot(y=[\"pca_5\", \"AAPL\"], ax=ax)"
   ]
  }
 ],
 "metadata": {
  "kernelspec": {
   "display_name": "kaggle",
   "language": "python",
   "name": "python3"
  },
  "language_info": {
   "codemirror_mode": {
    "name": "ipython",
    "version": 3
   },
   "file_extension": ".py",
   "mimetype": "text/x-python",
   "name": "python",
   "nbconvert_exporter": "python",
   "pygments_lexer": "ipython3",
   "version": "3.12.7"
  }
 },
 "nbformat": 4,
 "nbformat_minor": 2
}
