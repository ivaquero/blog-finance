{
 "cells": [
  {
   "cell_type": "markdown",
   "metadata": {},
   "source": [
    "# Nonlinearity in Finance"
   ]
  },
  {
   "cell_type": "code",
   "execution_count": 1,
   "metadata": {},
   "outputs": [],
   "source": [
    "from scipy import optimize"
   ]
  },
  {
   "cell_type": "markdown",
   "metadata": {},
   "source": [
    "## The Bisection Method\n"
   ]
  },
  {
   "cell_type": "code",
   "execution_count": 2,
   "metadata": {},
   "outputs": [],
   "source": [
    "def bisection(func, a, b, tol=0.1, max_iter=10):\n",
    "    \"\"\"\n",
    "    func: The function to solve\n",
    "    a: The x-axis value where f(a)<0\n",
    "    b: The x-axis value where f(b)>0\n",
    "    tol: The precision of the solution\n",
    "    max_iter: Maximum number of iterations\n",
    "    return:\n",
    "        The x-axis value of the root, number of iterations used\n",
    "    \"\"\"\n",
    "    # Declare c as the midpoint of ab\n",
    "    c = (a + b) * 0.5\n",
    "    n = 1\n",
    "    while n <= max_iter:\n",
    "        c = (a + b) * 0.5\n",
    "        if func(c) == 0 or abs(a - b) * 0.5 < tol:\n",
    "            return c, n\n",
    "\n",
    "        n += 1\n",
    "        if func(c) < 0:\n",
    "            a = c\n",
    "        else:\n",
    "            b = c\n",
    "\n",
    "    return c, n"
   ]
  },
  {
   "cell_type": "code",
   "execution_count": 3,
   "metadata": {},
   "outputs": [
    {
     "name": "stdout",
     "output_type": "stream",
     "text": [
      "Root is: 1.241903305053711\n",
      "Iterations: 20\n"
     ]
    }
   ],
   "source": [
    "def y(x):\n",
    "    return x**3 + 2.0 * x**2 - 5\n",
    "\n",
    "\n",
    "root, iterations = bisection(y, -5, 5, 0.00001, 100)\n",
    "print(\"Root is:\", root)\n",
    "print(\"Iterations:\", iterations)"
   ]
  },
  {
   "cell_type": "markdown",
   "metadata": {},
   "source": [
    "## The Newton-Raphson method "
   ]
  },
  {
   "cell_type": "code",
   "execution_count": 4,
   "metadata": {},
   "outputs": [],
   "source": [
    "def newton(func, df, x, tol=0.001, max_iter=100):\n",
    "    \"\"\"\n",
    "    func: The function to solve\n",
    "    df: The derivative function of f\n",
    "    x: Initial guess value of x\n",
    "    tol: The precision of the solution\n",
    "    max_iter: Maximum number of iterations\n",
    "    return:\n",
    "        The x-axis value of the root, number of iterations used\n",
    "    \"\"\"\n",
    "    n = 1\n",
    "    while n <= max_iter:\n",
    "        x1 = x - func(x) / df(x)\n",
    "        if abs(x1 - x) < tol:\n",
    "            return x1, n\n",
    "\n",
    "        x = x1\n",
    "        n += 1\n",
    "\n",
    "    return None, n"
   ]
  },
  {
   "cell_type": "code",
   "execution_count": 5,
   "metadata": {},
   "outputs": [
    {
     "name": "stdout",
     "output_type": "stream",
     "text": [
      "Root is: 1.241896563034502\n",
      "Iterations: 7\n"
     ]
    }
   ],
   "source": [
    "def dy(x):\n",
    "    return 3.0 * x**2.0 + 4.0 * x\n",
    "\n",
    "\n",
    "root, iterations = newton(y, dy, 5.0, 0.00001, 100)\n",
    "print(\"Root is:\", root)\n",
    "print(\"Iterations:\", iterations)"
   ]
  },
  {
   "cell_type": "markdown",
   "metadata": {},
   "source": [
    "## The Secant Method\n"
   ]
  },
  {
   "cell_type": "code",
   "execution_count": 6,
   "metadata": {},
   "outputs": [],
   "source": [
    "def secant(func, a, b, tol=0.001, max_iter=100):\n",
    "    \"\"\"\n",
    "    func: The function to solve\n",
    "    a: Initial x-axis guess value\n",
    "    b: Initial x-axis guess value, where b>a\n",
    "    tol: The precision of the solution\n",
    "    max_iter: Maximum number of iterations\n",
    "    return:\n",
    "        The x-axis value of the root, number of iterations used\n",
    "    \"\"\"\n",
    "    n = 1\n",
    "    while n <= max_iter:\n",
    "        c = b - func(b) * ((b - a) / (func(b) - func(a)))\n",
    "        if abs(c - b) < tol:\n",
    "            return c, n\n",
    "\n",
    "        a = b\n",
    "        b = c\n",
    "        n += 1\n",
    "\n",
    "    return None, n"
   ]
  },
  {
   "cell_type": "code",
   "execution_count": 7,
   "metadata": {},
   "outputs": [
    {
     "name": "stdout",
     "output_type": "stream",
     "text": [
      "Root is: 1.2418965622558549\n",
      "Iterations: 14\n"
     ]
    }
   ],
   "source": [
    "root, iterations = secant(y, -5.0, 5.0, 0.00001, 100)\n",
    "print(\"Root is:\", root)\n",
    "print(\"Iterations:\", iterations)"
   ]
  },
  {
   "cell_type": "markdown",
   "metadata": {},
   "source": [
    "## SciPy Implementations"
   ]
  },
  {
   "cell_type": "code",
   "execution_count": 8,
   "metadata": {},
   "outputs": [
    {
     "name": "stdout",
     "output_type": "stream",
     "text": [
      "Bisection method: 1.241903305053711\n",
      "Newton's method: 1.2418965630344798\n",
      "Secant method: 1.2418965630344803\n",
      "Brent's method: 1.241896563034559\n"
     ]
    }
   ],
   "source": [
    "print(\"Bisection method:\", optimize.bisect(y, -5.0, 5.0, xtol=0.00001))\n",
    "print(\"Newton's method:\", optimize.newton(y, 5.0, fprime=dy))\n",
    "print(\"Secant method:\", optimize.newton(y, 5.0))\n",
    "print(\"Brent's method:\", optimize.brentq(y, -5.0, 5.0))"
   ]
  },
  {
   "cell_type": "markdown",
   "metadata": {},
   "source": [
    "### General nonlinear solvers"
   ]
  },
  {
   "cell_type": "code",
   "execution_count": 9,
   "metadata": {},
   "outputs": [
    {
     "name": "stdout",
     "output_type": "stream",
     "text": [
      "[1.24189656]\n"
     ]
    }
   ],
   "source": [
    "print(optimize.fsolve(y, 5.0, fprime=dy))"
   ]
  },
  {
   "cell_type": "code",
   "execution_count": 10,
   "metadata": {},
   "outputs": [
    {
     "name": "stdout",
     "output_type": "stream",
     "text": [
      " message: The solution converged.\n",
      " success: True\n",
      "  status: 1\n",
      "     fun: [ 3.553e-15]\n",
      "       x: [ 1.242e+00]\n",
      "  method: hybr\n",
      "    nfev: 12\n",
      "    fjac: [[-1.000e+00]]\n",
      "       r: [-9.595e+00]\n",
      "     qtf: [-3.736e-09]\n"
     ]
    }
   ],
   "source": [
    "print(optimize.root(y, 5.0))"
   ]
  }
 ],
 "metadata": {
  "kernelspec": {
   "display_name": "base",
   "language": "python",
   "name": "python3"
  },
  "language_info": {
   "codemirror_mode": {
    "name": "ipython",
    "version": 3
   },
   "file_extension": ".py",
   "mimetype": "text/x-python",
   "name": "python",
   "nbconvert_exporter": "python",
   "pygments_lexer": "ipython3",
   "version": "3.12.10"
  }
 },
 "nbformat": 4,
 "nbformat_minor": 2
}
