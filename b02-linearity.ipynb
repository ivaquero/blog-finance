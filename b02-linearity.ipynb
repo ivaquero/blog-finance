{
 "cells": [
  {
   "cell_type": "markdown",
   "metadata": {},
   "source": [
    "# Linearity in Finance"
   ]
  },
  {
   "cell_type": "code",
   "execution_count": null,
   "metadata": {},
   "outputs": [],
   "source": [
    "import cvxpy as cp\n",
    "import numpy as np\n",
    "from scipy import linalg, stats"
   ]
  },
  {
   "cell_type": "markdown",
   "metadata": {},
   "source": [
    "## The Capital Asset Pricing Model"
   ]
  },
  {
   "cell_type": "code",
   "execution_count": 2,
   "metadata": {},
   "outputs": [
    {
     "name": "stdout",
     "output_type": "stream",
     "text": [
      "beta: 0.5077431878770808, alpha: -0.008481900352462384\n"
     ]
    }
   ],
   "source": [
    "stock_returns = [0.065, 0.0265, -0.0593, -0.001, 0.0346]\n",
    "mkt_returns = [0.055, -0.09, -0.041, 0.045, 0.022]\n",
    "beta, alpha, r_value, p_value, std_err = stats.linregress(stock_returns, mkt_returns)\n",
    "print(f\"beta: {beta}, alpha: {alpha}\")"
   ]
  },
  {
   "cell_type": "markdown",
   "metadata": {},
   "source": [
    "## Multivariate Linear Regression Of Factor Models"
   ]
  },
  {
   "cell_type": "code",
   "execution_count": null,
   "metadata": {},
   "outputs": [
    {
     "name": "stdout",
     "output_type": "stream",
     "text": [
      "                            OLS Regression Results                            \n",
      "==============================================================================\n",
      "Dep. Variable:                      y   R-squared:                       0.568\n",
      "Model:                            OLS   Adj. R-squared:                  0.316\n",
      "Method:                 Least Squares   F-statistic:                     2.257\n",
      "Date:                Sun, 26 Jan 2025   Prob (F-statistic):              0.103\n",
      "Time:                        17:32:01   Log-Likelihood:                 8.0464\n",
      "No. Observations:                  20   AIC:                          -0.09287\n",
      "Df Residuals:                      12   BIC:                             7.873\n",
      "Df Model:                           7                                         \n",
      "Covariance Type:            nonrobust                                         \n",
      "==============================================================================\n",
      "                 coef    std err          t      P>|t|      [0.025      0.975]\n",
      "------------------------------------------------------------------------------\n",
      "const          0.0307      0.193      0.159      0.876      -0.390       0.452\n",
      "x1            -0.0187      0.220     -0.085      0.934      -0.499       0.461\n",
      "x2            -0.2061      0.192     -1.072      0.305      -0.625       0.213\n",
      "x3             0.0957      0.184      0.520      0.613      -0.305       0.497\n",
      "x4             0.4897      0.202      2.423      0.032       0.049       0.930\n",
      "x5             0.1730      0.174      0.997      0.339      -0.205       0.551\n",
      "x6            -0.0267      0.290     -0.092      0.928      -0.659       0.606\n",
      "x7             0.4958      0.267      1.857      0.088      -0.086       1.077\n",
      "==============================================================================\n",
      "Omnibus:                        0.207   Durbin-Watson:                   1.756\n",
      "Prob(Omnibus):                  0.902   Jarque-Bera (JB):                0.372\n",
      "Skew:                           0.184   Prob(JB):                        0.830\n",
      "Kurtosis:                       2.442   Cond. No.                         13.7\n",
      "==============================================================================\n",
      "\n",
      "Notes:\n",
      "[1] Standard Errors assume that the covariance matrix of the errors is correctly specified.\n"
     ]
    }
   ],
   "source": [
    "# Generate some sample data\n",
    "num_periods = 20\n",
    "all_values = np.array([np.random.random(8) for i in range(num_periods)])\n",
    "\n",
    "# Filter the data\n",
    "y_values = all_values[:, 0]  # First column values as Y\n",
    "x_values = all_values[:, 1:]  # All other values as X"
   ]
  },
  {
   "cell_type": "markdown",
   "metadata": {},
   "source": [
    "## Linear Optimization"
   ]
  },
  {
   "cell_type": "markdown",
   "metadata": {},
   "source": [
    "### A Maximization Example With Linear Programming"
   ]
  },
  {
   "cell_type": "code",
   "execution_count": 5,
   "metadata": {},
   "outputs": [
    {
     "data": {
      "text/plain": [
       "180.0"
      ]
     },
     "execution_count": 5,
     "metadata": {},
     "output_type": "execute_result"
    }
   ],
   "source": [
    "x = cp.Variable(name=\"x\", integer=True)\n",
    "y = cp.Variable(name=\"y\", integer=True)\n",
    "\n",
    "objective = cp.Maximize(3 * x + 2 * y)\n",
    "constraints = [2 * x + y <= 100, x + y <= 80, x <= 40, x >= 0, y >= 0]\n",
    "problem = cp.Problem(objective, constraints)\n",
    "problem.solve()"
   ]
  },
  {
   "cell_type": "code",
   "execution_count": 6,
   "metadata": {},
   "outputs": [
    {
     "name": "stdout",
     "output_type": "stream",
     "text": [
      "Status: optimal\n",
      "Maximization Results: 180.0\n",
      "x = 20.0\n",
      "y = 60.0\n"
     ]
    }
   ],
   "source": [
    "print(f\"Status: {problem.status}\")\n",
    "print(f\"Maximization Results: {problem.value}\")\n",
    "for variable in problem.variables():\n",
    "    print(f\"{variable} = {variable.value}\")"
   ]
  },
  {
   "cell_type": "markdown",
   "metadata": {},
   "source": [
    "### A Minimization Example With Integer Programming\n"
   ]
  },
  {
   "cell_type": "code",
   "execution_count": 7,
   "metadata": {},
   "outputs": [
    {
     "data": {
      "text/plain": [
       "Expression(AFFINE, UNKNOWN, (3,))"
      ]
     },
     "execution_count": 7,
     "metadata": {},
     "output_type": "execute_result"
    }
   ],
   "source": [
    "x1 = cp.Variable(name=\"x1\", integer=True)\n",
    "x2 = cp.Variable(name=\"x2\", integer=True)\n",
    "x3 = cp.Variable(name=\"x3\", integer=True)\n",
    "quantities = cp.hstack([x1, x2, x3])\n",
    "costs = cp.Constant([500, 350, 450])\n",
    "fixed = cp.Constant([4000, 2000, 6000])\n",
    "costs @ quantities + fixed"
   ]
  },
  {
   "cell_type": "code",
   "execution_count": 8,
   "metadata": {},
   "outputs": [
    {
     "data": {
      "text/plain": [
       "Expression(UNKNOWN, UNKNOWN, ())"
      ]
     },
     "execution_count": 8,
     "metadata": {},
     "output_type": "execute_result"
    }
   ],
   "source": [
    "is_orders = cp.Variable(3, name=\"is_orders\", boolean=True)\n",
    "(costs @ quantities + fixed) @ is_orders"
   ]
  },
  {
   "cell_type": "code",
   "execution_count": 9,
   "metadata": {},
   "outputs": [
    {
     "data": {
      "text/plain": [
       "66500.0"
      ]
     },
     "execution_count": 9,
     "metadata": {},
     "output_type": "execute_result"
    }
   ],
   "source": [
    "objective = cp.Minimize(cp.sum(costs @ quantities + fixed @ is_orders))\n",
    "constraints = [\n",
    "    x1 >= 30 * is_orders[0],\n",
    "    x1 <= 100 * is_orders[0],\n",
    "    x2 >= 30 * is_orders[1],\n",
    "    x2 <= 90 * is_orders[1],\n",
    "    x3 >= 30 * is_orders[2],\n",
    "    x3 <= 70 * is_orders[2],\n",
    "    x1 + x2 + x3 == 150,\n",
    "]\n",
    "\n",
    "problem = cp.Problem(objective, constraints)\n",
    "problem.solve()\n"
   ]
  },
  {
   "cell_type": "markdown",
   "metadata": {},
   "source": [
    "## Solving Linear Equations Using Matrices"
   ]
  },
  {
   "cell_type": "code",
   "execution_count": 10,
   "metadata": {},
   "outputs": [
    {
     "name": "stdout",
     "output_type": "stream",
     "text": [
      "[  6.  15. -23.]\n"
     ]
    }
   ],
   "source": [
    "A = np.array([[2, 1, 1], [1, 3, 2], [1, 0, 0]])\n",
    "B = np.array([4, 5, 6])\n",
    "print(np.linalg.solve(A, B))"
   ]
  },
  {
   "cell_type": "markdown",
   "metadata": {},
   "source": [
    "### The LU decomposition\n"
   ]
  },
  {
   "cell_type": "code",
   "execution_count": 11,
   "metadata": {},
   "outputs": [
    {
     "name": "stdout",
     "output_type": "stream",
     "text": [
      "[  6.  15. -23.]\n"
     ]
    }
   ],
   "source": [
    "# Define A and B\n",
    "A = np.array([[2.0, 1.0, 1.0], [1.0, 3.0, 2.0], [1.0, 0.0, 0.0]])\n",
    "B = np.array([4.0, 5.0, 6.0])\n",
    "\n",
    "# Perform LU decompositiopn\n",
    "LU = linalg.lu_factor(A)\n",
    "x = linalg.lu_solve(LU, B)\n",
    "print(x)"
   ]
  },
  {
   "cell_type": "code",
   "execution_count": 12,
   "metadata": {},
   "outputs": [
    {
     "name": "stdout",
     "output_type": "stream",
     "text": [
      "P=\n",
      " [[1. 0. 0.]\n",
      " [0. 1. 0.]\n",
      " [0. 0. 1.]]\n",
      "L=\n",
      " [[ 1.   0.   0. ]\n",
      " [ 0.5  1.   0. ]\n",
      " [ 0.5 -0.2  1. ]]\n",
      "U=\n",
      " [[ 2.   1.   1. ]\n",
      " [ 0.   2.5  1.5]\n",
      " [ 0.   0.  -0.2]]\n"
     ]
    }
   ],
   "source": [
    "P, L, U = linalg.lu(A)\n",
    "\n",
    "print(\"P=\\n\", P)\n",
    "print(\"L=\\n\", L)\n",
    "print(\"U=\\n\", U)"
   ]
  },
  {
   "cell_type": "markdown",
   "metadata": {},
   "source": [
    "### The Cholesky Decomposition"
   ]
  },
  {
   "cell_type": "code",
   "execution_count": 13,
   "metadata": {},
   "outputs": [
    {
     "name": "stdout",
     "output_type": "stream",
     "text": [
      "[[ 3.16227766  0.          0.          0.        ]\n",
      " [-0.31622777  3.3015148   0.          0.        ]\n",
      " [ 0.63245553 -0.24231301  3.08889696  0.        ]\n",
      " [ 0.          0.9086738  -0.25245792  2.6665665 ]]\n"
     ]
    }
   ],
   "source": [
    "A = np.array([\n",
    "    [10.0, -1.0, 2.0, 0.0],\n",
    "    [-1.0, 11.0, -1.0, 3.0],\n",
    "    [2.0, -1.0, 10.0, -1.0],\n",
    "    [0.0, 3.0, -1.0, 8.0],\n",
    "])\n",
    "B = np.array([6.0, 25.0, -11.0, 15.0])\n",
    "\n",
    "L = np.linalg.cholesky(A)\n",
    "print(L)"
   ]
  },
  {
   "cell_type": "code",
   "execution_count": 14,
   "metadata": {},
   "outputs": [
    {
     "name": "stdout",
     "output_type": "stream",
     "text": [
      "[[10. -1.  2.  0.]\n",
      " [-1. 11. -1.  3.]\n",
      " [ 2. -1. 10. -1.]\n",
      " [ 0.  3. -1.  8.]]\n"
     ]
    }
   ],
   "source": [
    "print(np.dot(L, L.T.conj()))  # A=L.L^*"
   ]
  },
  {
   "cell_type": "code",
   "execution_count": 15,
   "metadata": {},
   "outputs": [
    {
     "name": "stdout",
     "output_type": "stream",
     "text": [
      "[ 1.  2. -1.  1.]\n"
     ]
    }
   ],
   "source": [
    "y = np.linalg.solve(L, B)  # L.L*.x=B; When L*.x=y, then L.y=B\n",
    "x = np.linalg.solve(L.T.conj(), y)  # x=L*'.y\n",
    "print(x)"
   ]
  },
  {
   "cell_type": "code",
   "execution_count": 16,
   "metadata": {},
   "outputs": [
    {
     "name": "stdout",
     "output_type": "stream",
     "text": [
      "[[  6.]\n",
      " [ 25.]\n",
      " [-11.]\n",
      " [ 15.]]\n"
     ]
    }
   ],
   "source": [
    "print(np.asmatrix(A) * np.asmatrix(x).T)  # B=Aximport numpy as npimport numpy as np"
   ]
  },
  {
   "cell_type": "markdown",
   "metadata": {},
   "source": [
    "### The QR decomposition"
   ]
  },
  {
   "cell_type": "code",
   "execution_count": 17,
   "metadata": {},
   "outputs": [
    {
     "name": "stdout",
     "output_type": "stream",
     "text": [
      "[  6.  15. -23.]\n"
     ]
    }
   ],
   "source": [
    "A = np.array([[2.0, 1.0, 1.0], [1.0, 3.0, 2.0], [1.0, 0.0, 0]])\n",
    "B = np.array([4.0, 5.0, 6.0])\n",
    "\n",
    "Q, R = linalg.qr(A)  # QR decomposition\n",
    "y = np.dot(Q.T, B)  # Let y=Q'.B\n",
    "x = linalg.solve(R, y)  # Solve Rx=y\n",
    "print(x)"
   ]
  },
  {
   "cell_type": "markdown",
   "metadata": {},
   "source": [
    "## Solving With Other Matrix Algebra Methods\n"
   ]
  },
  {
   "cell_type": "markdown",
   "metadata": {},
   "source": [
    "### The Jacobi Method\n"
   ]
  },
  {
   "cell_type": "code",
   "execution_count": 18,
   "metadata": {},
   "outputs": [],
   "source": [
    "def jacobi_iter(A, B, n_iter=25, tol=1e-10):\n",
    "    # Initializes x with zeroes with same shape and type as B\n",
    "    x = np.zeros_like(B)\n",
    "\n",
    "    for _ in range(n_iter):\n",
    "        x_new = np.zeros_like(x)\n",
    "        for i in range(A.shape[0]):\n",
    "            s1 = np.dot(A[i, :i], x[:i])\n",
    "            s2 = np.dot(A[i, i + 1 :], x[i + 1 :])\n",
    "            x_new[i] = (B[i] - s1 - s2) / A[i, i]\n",
    "\n",
    "        if np.allclose(x, x_new, tol):\n",
    "            break\n",
    "\n",
    "        x = x_new\n",
    "\n",
    "    return x"
   ]
  },
  {
   "cell_type": "code",
   "execution_count": 19,
   "metadata": {},
   "outputs": [
    {
     "name": "stdout",
     "output_type": "stream",
     "text": [
      "x = [ 1.  2. -1.  1.]\n"
     ]
    }
   ],
   "source": [
    "A = np.array([\n",
    "    [10.0, -1.0, 2.0, 0.0],\n",
    "    [-1.0, 11.0, -1.0, 3.0],\n",
    "    [2.0, -1.0, 10.0, -1.0],\n",
    "    [0.0, 3.0, -1.0, 8.0],\n",
    "])\n",
    "B = np.array([6.0, 25.0, -11.0, 15.0])\n",
    "\n",
    "x = jacobi_iter(A, B)\n",
    "print(f\"x = {x}\")"
   ]
  },
  {
   "cell_type": "markdown",
   "metadata": {},
   "source": [
    "### The Gauss-Seidel Method"
   ]
  },
  {
   "cell_type": "code",
   "execution_count": 20,
   "metadata": {},
   "outputs": [],
   "source": [
    "def gauss_iter(A, B, n_iter=25, tol=1e-10):\n",
    "    L = np.tril(A)  # returns the lower triangular matrix of A\n",
    "    U = A - L  # decompose A = L + U\n",
    "    L_inv = np.linalg.inv(L)\n",
    "    x = np.zeros_like(B)\n",
    "\n",
    "    for _ in range(n_iter):\n",
    "        Ux = np.dot(U, x)\n",
    "        x_new = np.dot(L_inv, B - Ux)\n",
    "        if np.allclose(x, x_new, tol):\n",
    "            break\n",
    "\n",
    "        x = x_new\n",
    "\n",
    "    return x"
   ]
  },
  {
   "cell_type": "code",
   "execution_count": 21,
   "metadata": {},
   "outputs": [
    {
     "name": "stdout",
     "output_type": "stream",
     "text": [
      "x = [ 1.  2. -1.  1.]\n"
     ]
    }
   ],
   "source": [
    "x = gauss_iter(A, B)\n",
    "print(f\"x = {x}\")"
   ]
  }
 ],
 "metadata": {
  "kernelspec": {
   "display_name": "base",
   "language": "python",
   "name": "python3"
  },
  "language_info": {
   "codemirror_mode": {
    "name": "ipython",
    "version": 3
   },
   "file_extension": ".py",
   "mimetype": "text/x-python",
   "name": "python",
   "nbconvert_exporter": "python",
   "pygments_lexer": "ipython3",
   "version": "3.12.10"
  }
 },
 "nbformat": 4,
 "nbformat_minor": 2
}
